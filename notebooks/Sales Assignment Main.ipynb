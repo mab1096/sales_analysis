{
 "cells": [
  {
   "cell_type": "markdown",
   "metadata": {},
   "source": [
    "# Consulting Data Analysis Week #1"
   ]
  },
  {
   "cell_type": "code",
   "execution_count": 13,
   "metadata": {},
   "outputs": [
    {
     "name": "stdout",
     "output_type": "stream",
     "text": [
      "state\n",
      "AK    61125.000000\n",
      "AL    72571.428571\n",
      "AR    47000.000000\n",
      "AZ    46909.090909\n",
      "CA    52454.545455\n",
      "CO    55558.823529\n",
      "CT    76454.545455\n",
      "DC    53000.000000\n",
      "DE    48357.142857\n",
      "FL    54557.142857\n",
      "GA    52000.000000\n",
      "ID    54722.222222\n",
      "IL    58608.695652\n",
      "IN    45909.090909\n",
      "KS    52674.418605\n",
      "KY    73818.181818\n",
      "LA    55484.848485\n",
      "MA    59333.333333\n",
      "MD    54388.888889\n",
      "ME    52750.000000\n",
      "MI    59300.000000\n",
      "MN    56166.666667\n",
      "MO    62576.923077\n",
      "MS    47166.666667\n",
      "NC    53680.000000\n",
      "NE    45636.363636\n",
      "NV    61777.777778\n",
      "NY    54465.116279\n",
      "OH    54878.787879\n",
      "OK    49029.411765\n",
      "OR    52272.727273\n",
      "PA    56655.172414\n",
      "SC    63200.000000\n",
      "TN    55125.000000\n",
      "TX    57826.923077\n",
      "VA    56142.857143\n",
      "WA    52407.407407\n",
      "WI    52416.666667\n",
      "WV    57000.000000\n",
      "Name: deposit, dtype: float64\n"
     ]
    }
   ],
   "source": [
    "# Import Pandas & Read in Data\n",
    "\n",
    "import pandas as pd\n",
    "\n",
    "contracts = pd.read_csv(\"C:/Users/Michael Botelho/bip-python-unh/sales_analysis/data/contracts.csv\", delimiter =',', encoding=\"utf-8-sig\")\n",
    "customers = pd.read_csv(\"C:/Users/Michael Botelho/bip-python-unh/sales_analysis/data/customers.csv\", delimiter =',', encoding=\"utf-8-sig\")\n",
    "\n",
    "\n",
    "# Changing Data Types\n",
    "\n",
    "customers['id'] = customers['id'].astype(str)\n",
    "contracts['customer_id'] = contracts['customer_id'].astype(str)\n",
    "\n",
    "\n",
    "\n",
    "# Merge/Join to one DataFrame\n",
    "\n",
    "df = pd.merge(customers, contracts, left_on='id', right_on='customer_id')\n",
    "\n",
    "\n",
    "# Fix Dollar Signs & Commas & Convert to Float\n",
    "\n",
    "df['deposit'] = df['deposit'].replace('[$,()]', '', regex=True)\n",
    "df['deposit'] = df['deposit'].astype(float)\n",
    "\n",
    "\n",
    "\n",
    "# Calculate Total Sales By State\n",
    "\n",
    "total_sales = df.groupby(['state'])['deposit'].agg('sum')\n",
    "total_sales = df.groupby(['state'])['deposit'].agg('mean', 'sum')\n",
    "pd.set_option('display.max_columns', None)\n",
    "total_sales.columns = ['state', 'total sales']\n",
    "print(total_sales)"
   ]
  },
  {
   "cell_type": "markdown",
   "metadata": {},
   "source": [
    "# Consulting Data Analysis Week #2\n",
    "\n",
    "### 1. Identify the number of unique companies you do business with in each state"
   ]
  },
  {
   "cell_type": "code",
   "execution_count": 2,
   "metadata": {},
   "outputs": [
    {
     "data": {
      "text/plain": [
       "162"
      ]
     },
     "execution_count": 2,
     "metadata": {},
     "output_type": "execute_result"
    }
   ],
   "source": [
    "import pandas as pd\n",
    "\n",
    "unique_companies = df.drop_duplicates(subset=['company'])\n",
    "\n",
    "pd.Series.nunique(unique_companies['company'])"
   ]
  },
  {
   "cell_type": "markdown",
   "metadata": {},
   "source": [
    "### 2. Complete any other analysis on the data that helps you illustrate the best state to setup a headquarters to support your customers and office"
   ]
  },
  {
   "cell_type": "markdown",
   "metadata": {},
   "source": [
    "Overall Dataframe with all values\n"
   ]
  },
  {
   "cell_type": "code",
   "execution_count": 3,
   "metadata": {},
   "outputs": [
    {
     "name": "stdout",
     "output_type": "stream",
     "text": [
      "state\n",
      "TX    104\n",
      "CA     88\n",
      "FL     70\n",
      "WA     54\n",
      "NY     43\n",
      "KS     43\n",
      "VA     35\n",
      "OK     34\n",
      "CO     34\n",
      "OH     33\n",
      "LA     33\n",
      "DC     32\n",
      "PA     29\n",
      "MO     26\n",
      "NC     25\n",
      "WI     24\n",
      "IL     23\n",
      "OR     22\n",
      "AZ     22\n",
      "NE     22\n",
      "MI     20\n",
      "ID     18\n",
      "MN     18\n",
      "MD     18\n",
      "TN     16\n",
      "GA     15\n",
      "DE     14\n",
      "KY     11\n",
      "IN     11\n",
      "CT     11\n",
      "NV      9\n",
      "AK      8\n",
      "AL      7\n",
      "MA      6\n",
      "MS      6\n",
      "WV      5\n",
      "SC      5\n",
      "ME      4\n",
      "AR      2\n",
      "dtype: int64\n"
     ]
    }
   ],
   "source": [
    "print(df.value_counts('state'))"
   ]
  },
  {
   "cell_type": "markdown",
   "metadata": {},
   "source": [
    "Unique DataFrame with unique values for company"
   ]
  },
  {
   "cell_type": "code",
   "execution_count": 4,
   "metadata": {},
   "outputs": [
    {
     "data": {
      "text/plain": [
       "state\n",
       "TX    15\n",
       "CA    14\n",
       "FL    14\n",
       "NY    10\n",
       "WA     7\n",
       "VA     7\n",
       "KS     6\n",
       "PA     6\n",
       "DC     6\n",
       "WI     5\n",
       "OK     5\n",
       "AZ     5\n",
       "IL     4\n",
       "CO     4\n",
       "OR     4\n",
       "TN     4\n",
       "LA     4\n",
       "ID     3\n",
       "GA     3\n",
       "DE     3\n",
       "IN     3\n",
       "MD     3\n",
       "MO     3\n",
       "NC     3\n",
       "OH     3\n",
       "MI     3\n",
       "MN     2\n",
       "NE     2\n",
       "NV     2\n",
       "CT     2\n",
       "AR     1\n",
       "AL     1\n",
       "WV     1\n",
       "KY     1\n",
       "MA     1\n",
       "ME     1\n",
       "AK     1\n",
       "dtype: int64"
      ]
     },
     "execution_count": 4,
     "metadata": {},
     "output_type": "execute_result"
    }
   ],
   "source": [
    "unique_companies.value_counts('state')"
   ]
  },
  {
   "cell_type": "markdown",
   "metadata": {},
   "source": [
    "### 3. Complete any other analysis on the data that helps you illustrate the best state to setup a headquarters to support your customers and office "
   ]
  },
  {
   "cell_type": "markdown",
   "metadata": {},
   "source": [
    "Average sales by state per contracts by state"
   ]
  },
  {
   "cell_type": "code",
   "execution_count": 17,
   "metadata": {},
   "outputs": [
    {
     "data": {
      "text/plain": [
       "state\n",
       "AK     7640.625000\n",
       "AL    10367.346939\n",
       "AR    23500.000000\n",
       "AZ     2132.231405\n",
       "CA      596.074380\n",
       "CO     1634.083045\n",
       "CT     6950.413223\n",
       "DC     1656.250000\n",
       "DE     3454.081633\n",
       "FL      779.387755\n",
       "GA     3466.666667\n",
       "ID     3040.123457\n",
       "IL     2548.204159\n",
       "IN     4173.553719\n",
       "KS     1224.986479\n",
       "KY     6710.743802\n",
       "LA     1681.359045\n",
       "MA     9888.888889\n",
       "MD     3021.604938\n",
       "ME    13187.500000\n",
       "MI     2965.000000\n",
       "MN     3120.370370\n",
       "MO     2406.804734\n",
       "MS     7861.111111\n",
       "NC     2147.200000\n",
       "NE     2074.380165\n",
       "NV     6864.197531\n",
       "NY     1266.630611\n",
       "OH     1662.993572\n",
       "OK     1442.041522\n",
       "OR     2376.033058\n",
       "PA     1953.626635\n",
       "SC    12640.000000\n",
       "TN     3445.312500\n",
       "TX      556.028107\n",
       "VA     1604.081633\n",
       "WA      970.507545\n",
       "WI     2184.027778\n",
       "WV    11400.000000\n",
       "dtype: float64"
      ]
     },
     "execution_count": 17,
     "metadata": {},
     "output_type": "execute_result"
    }
   ],
   "source": [
    "avg_sales = df.groupby(['state'])['deposit'].agg('mean','sum')\n",
    "\n",
    "avg_sales / df.value_counts('state')"
   ]
  },
  {
   "cell_type": "markdown",
   "metadata": {},
   "source": [
    "## Which State?\n",
    "\n",
    "As we see through the results: Texas, California, Florida, and New York are the states where most companies are located. On the first original dataframe Washington has more values than New York, but on the unique dataframe we see that New York has 10 unique companies, while Washington has 7 unique companies. This likely occured because the companies in Washington have more rows or contracts and deposits compared to the companies in New York.\n",
    "\n",
    "Overall, it seems that the best state to have a headquarters in would be Texas because they have the most companies within the state at 15 and they have the most total rows at 104, which means that Texas likely has the most total deposits and contracts as well."
   ]
  }
 ],
 "metadata": {
  "kernelspec": {
   "display_name": "Python 3",
   "language": "python",
   "name": "python3"
  },
  "language_info": {
   "codemirror_mode": {
    "name": "ipython",
    "version": 3
   },
   "file_extension": ".py",
   "mimetype": "text/x-python",
   "name": "python",
   "nbconvert_exporter": "python",
   "pygments_lexer": "ipython3",
   "version": "3.8.5"
  }
 },
 "nbformat": 4,
 "nbformat_minor": 4
}
