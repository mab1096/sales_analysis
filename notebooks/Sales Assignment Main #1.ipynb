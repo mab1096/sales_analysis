{
 "cells": [
  {
   "cell_type": "code",
   "execution_count": 17,
   "metadata": {},
   "outputs": [
    {
     "name": "stdout",
     "output_type": "stream",
     "text": [
      "state\n",
      "AK    61125.000000\n",
      "AL    72571.428571\n",
      "AR    47000.000000\n",
      "AZ    46909.090909\n",
      "CA    52454.545455\n",
      "CO    55558.823529\n",
      "CT    76454.545455\n",
      "DC    53000.000000\n",
      "DE    48357.142857\n",
      "FL    54557.142857\n",
      "GA    52000.000000\n",
      "ID    54722.222222\n",
      "IL    58608.695652\n",
      "IN    45909.090909\n",
      "KS    52674.418605\n",
      "KY    73818.181818\n",
      "LA    55484.848485\n",
      "MA    59333.333333\n",
      "MD    54388.888889\n",
      "ME    52750.000000\n",
      "MI    59300.000000\n",
      "MN    56166.666667\n",
      "MO    62576.923077\n",
      "MS    47166.666667\n",
      "NC    53680.000000\n",
      "NE    45636.363636\n",
      "NV    61777.777778\n",
      "NY    54465.116279\n",
      "OH    54878.787879\n",
      "OK    49029.411765\n",
      "OR    52272.727273\n",
      "PA    56655.172414\n",
      "SC    63200.000000\n",
      "TN    55125.000000\n",
      "TX    57826.923077\n",
      "VA    56142.857143\n",
      "WA    52407.407407\n",
      "WI    52416.666667\n",
      "WV    57000.000000\n",
      "Name: deposit, dtype: float64\n"
     ]
    }
   ],
   "source": [
    "# Import Pandas & Read in Data\n",
    "\n",
    "import pandas as pd\n",
    "\n",
    "contracts = pd.read_csv(\"C:/Users/Michael Botelho/bip-python-unh/sales_analysis/data/contracts.csv\", delimiter =',', encoding=\"utf-8-sig\")\n",
    "customers = pd.read_csv(\"C:/Users/Michael Botelho/bip-python-unh/sales_analysis/data/customers.csv\", delimiter =',', encoding=\"utf-8-sig\")\n",
    "\n",
    "\n",
    "# Changing Data Types\n",
    "\n",
    "customers['id'] = customers['id'].astype(str)\n",
    "contracts['customer_id'] = contracts['customer_id'].astype(str)\n",
    "\n",
    "\n",
    "\n",
    "# Merge/Join to one DataFrame\n",
    "\n",
    "df = pd.merge(customers, contracts, left_on='id', right_on='customer_id')\n",
    "\n",
    "\n",
    "# Fix Dollar Signs & Commas & Convert to Float\n",
    "\n",
    "df['deposit'] = df['deposit'].replace('[$,()]', '', regex=True)\n",
    "df['deposit'] = df['deposit'].astype(float)\n",
    "\n",
    "\n",
    "\n",
    "# Calculate Total Sales By State\n",
    "\n",
    "total_sales = df.groupby(['state'])['deposit'].agg('mean', 'sum')\n",
    "pd.set_option('display.max_columns', None)\n",
    "total_sales.columns = ['state', 'total sales']\n",
    "print(total_sales)"
   ]
  }
 ],
 "metadata": {
  "kernelspec": {
   "display_name": "Python 3",
   "language": "python",
   "name": "python3"
  },
  "language_info": {
   "codemirror_mode": {
    "name": "ipython",
    "version": 3
   },
   "file_extension": ".py",
   "mimetype": "text/x-python",
   "name": "python",
   "nbconvert_exporter": "python",
   "pygments_lexer": "ipython3",
   "version": "3.8.5"
  }
 },
 "nbformat": 4,
 "nbformat_minor": 4
}
