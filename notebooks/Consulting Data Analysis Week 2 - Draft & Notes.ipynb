{
 "cells": [
  {
   "cell_type": "code",
   "execution_count": 9,
   "metadata": {},
   "outputs": [
    {
     "name": "stdout",
     "output_type": "stream",
     "text": [
      "state\n",
      "TX    104\n",
      "CA     88\n",
      "FL     70\n",
      "WA     54\n",
      "NY     43\n",
      "     ... \n",
      "MS      6\n",
      "WV      5\n",
      "SC      5\n",
      "ME      4\n",
      "AR      2\n",
      "Length: 39, dtype: int64\n"
     ]
    },
    {
     "data": {
      "text/plain": [
       "0          Bubblebox\n",
       "7               Izio\n",
       "12      Twitterworks\n",
       "18              Viva\n",
       "21       Jabberstorm\n",
       "           ...      \n",
       "966            Meemm\n",
       "969    Twitterbridge\n",
       "976           Rhynyx\n",
       "983            Vinte\n",
       "990             Katz\n",
       "Name: company, Length: 162, dtype: object"
      ]
     },
     "execution_count": 9,
     "metadata": {},
     "output_type": "execute_result"
    }
   ],
   "source": [
    "# Loads the two files\n",
    "# Joins the two files to one dataframe\n",
    "# Calculates total sales by state using a groupby function\n",
    "# Sales are currently in string values, requiring you to translate the value to a number so it can be calculated\n",
    "# Identify the number of unique companies you do business with in each state\n",
    "# To get an accurate count, you will want to use a built in option like pandas.Series.nunique()\n",
    "# Complete any other analysis on the data that helps you illustrate the best state to setup a headquarters to support your customers and office\n",
    "# Use markdown  cells and code cells to present your case and story with your own words and headlines to deliver your point\n",
    "\n",
    "# The Final result should be:\n",
    "# committed and pushed to your repository with all code cells run\n",
    "# all formatting in business-acceptable context and full paragraphs using headers and normal text as appropriate in markdown cells\n",
    "# Post the url to your new repository on github here once you have completed the assignment.\n",
    "\n",
    "import pandas as pd\n",
    "\n",
    "contracts = pd.read_csv(\"C:/Users/Michael Botelho/bip-python-unh/sales_analysis/data/contracts.csv\", delimiter =',', encoding=\"utf-8-sig\")\n",
    "customers = pd.read_csv(\"C:/Users/Michael Botelho/bip-python-unh/sales_analysis/data/customers.csv\", delimiter =',', encoding=\"utf-8-sig\")\n",
    "\n",
    "\n",
    "# Changing Data Types\n",
    "\n",
    "customers['id'] = customers['id'].astype(str)\n",
    "contracts['customer_id'] = contracts['customer_id'].astype(str)\n",
    "\n",
    "\n",
    "\n",
    "# Merge/Join to one DataFrame\n",
    "\n",
    "df = pd.merge(customers, contracts, left_on='id', right_on='customer_id')\n",
    "\n",
    "\n",
    "# Fix Dollar Signs & Commas & Convert to Float\n",
    "\n",
    "df['deposit'] = df['deposit'].replace('[$,()]', '', regex=True)\n",
    "df['deposit'] = df['deposit'].astype(float)\n",
    "\n",
    "\n",
    "\n",
    "# Calculate Total Sales By State\n",
    "\n",
    "total_sales = df.groupby(['state'])['deposit'].agg('mean', 'sum')\n",
    "pd.set_option('display.max_columns', None)\n",
    "total_sales.columns = ['state', 'total sales']\n",
    "\n",
    "\n",
    "\n",
    "############################################################################################################################\n",
    "# Identify the number of unique companies you do business with in each state\n",
    "import pandas as pd\n",
    "unique_companies = df.drop_duplicates(subset=['company'])\n",
    "\n",
    "unique_companies.company\n",
    "pd.set_option('display.max_rows', 25)\n",
    "\n",
    "\n",
    "unique_companies.company\n",
    "len(unique_companies)\n",
    "# or\n",
    "pd.Series.nunique(unique_companies['company'])\n",
    "\n",
    "############################################################################################################################\n",
    "\n",
    "# To get an accurate count, you will want to use a built in option like pandas.Series.nunique()\n",
    "# Complete any other analysis on the data that helps you illustrate the best state to setup a headquarters to support your customers and office\n",
    "# Use markdown  cells and code cells to present your case and story with your own words and headlines to deliver your point\n",
    "\n",
    "# df['company']\n",
    "#pd.Series({c: df[c].unique() for c in df})\n",
    "\n",
    "\n",
    "#df.groupby('company', 'state').count()\n",
    "df\n",
    "\n",
    "print(df.value_counts('state'))\n",
    "unique_companies.value_counts('state')\n",
    "\n",
    "unique_companies\n",
    "\n",
    "df\n",
    "\n",
    "# Below = Shows each row of the df created called unique_companies\n",
    "unique_companies.company"
   ]
  },
  {
   "cell_type": "markdown",
   "metadata": {},
   "source": [
    "# How to see more rows (below):"
   ]
  },
  {
   "cell_type": "code",
   "execution_count": 6,
   "metadata": {},
   "outputs": [],
   "source": [
    "pd.set_option('display.max_rows', 25)"
   ]
  },
  {
   "cell_type": "markdown",
   "metadata": {},
   "source": [
    "# Consulting Data Analysis Week #2\n",
    "\n",
    "### 1. Identify the number of unique companies you do business with in each state"
   ]
  },
  {
   "cell_type": "code",
   "execution_count": 4,
   "metadata": {},
   "outputs": [
    {
     "data": {
      "text/plain": [
       "162"
      ]
     },
     "execution_count": 4,
     "metadata": {},
     "output_type": "execute_result"
    }
   ],
   "source": [
    "import pandas as pd\n",
    "unique_companies = df.drop_duplicates(subset=['company'])\n",
    "\n",
    "\n",
    "len(unique_companies)\n",
    "# or\n",
    "pd.Series.nunique(unique_companies['company'])"
   ]
  },
  {
   "cell_type": "markdown",
   "metadata": {},
   "source": [
    "### 2. Complete any other analysis on the data that helps you illustrate the best state to setup a headquarters to support your customers and office"
   ]
  },
  {
   "cell_type": "markdown",
   "metadata": {},
   "source": [
    "Overall Dataframe with all values"
   ]
  },
  {
   "cell_type": "code",
   "execution_count": 5,
   "metadata": {},
   "outputs": [
    {
     "name": "stdout",
     "output_type": "stream",
     "text": [
      "state\n",
      "TX    104\n",
      "CA     88\n",
      "FL     70\n",
      "WA     54\n",
      "NY     43\n",
      "     ... \n",
      "MS      6\n",
      "WV      5\n",
      "SC      5\n",
      "ME      4\n",
      "AR      2\n",
      "Length: 39, dtype: int64\n"
     ]
    }
   ],
   "source": [
    "# Overall Dataframe with all values\n",
    "print(df.value_counts('state'))"
   ]
  },
  {
   "cell_type": "markdown",
   "metadata": {},
   "source": [
    "Unique DataFrame with unique values for company"
   ]
  },
  {
   "cell_type": "code",
   "execution_count": 104,
   "metadata": {},
   "outputs": [
    {
     "data": {
      "text/plain": [
       "state\n",
       "TX    15\n",
       "CA    14\n",
       "FL    14\n",
       "NY    10\n",
       "WA     7\n",
       "      ..\n",
       "WV     1\n",
       "KY     1\n",
       "MA     1\n",
       "ME     1\n",
       "AK     1\n",
       "Length: 37, dtype: int64"
      ]
     },
     "execution_count": 104,
     "metadata": {},
     "output_type": "execute_result"
    }
   ],
   "source": [
    "# Unique Dataframe, in case there were more deposits in companies within a certain state, which would throw off the numbers\n",
    "unique_companies.value_counts('state')"
   ]
  },
  {
   "cell_type": "code",
   "execution_count": 28,
   "metadata": {},
   "outputs": [
    {
     "data": {
      "text/plain": [
       "state\n",
       "AK     489000.0\n",
       "AL     508000.0\n",
       "AR      94000.0\n",
       "AZ    1032000.0\n",
       "CA    4616000.0\n",
       "        ...    \n",
       "TX    6014000.0\n",
       "VA    1965000.0\n",
       "WA    2830000.0\n",
       "WI    1258000.0\n",
       "WV     285000.0\n",
       "Name: deposit, Length: 39, dtype: float64"
      ]
     },
     "execution_count": 28,
     "metadata": {},
     "output_type": "execute_result"
    }
   ],
   "source": [
    "unique_companies\n",
    "df\n",
    "\n",
    "\n",
    "\n",
    "\n",
    "#total average sales by region per contracts by region\n",
    "\n",
    "\n",
    "df\n",
    "total_sales / df.value_counts('state')\n",
    "df\n",
    "\n",
    "total_sum = df.groupby(['state'])['deposit'].agg('sum')\n",
    "total_sum"
   ]
  },
  {
   "cell_type": "markdown",
   "metadata": {},
   "source": [
    "## Which State?\n",
    "As we see through the results: Texas, California, Florida, and New York are the states where most companies are located. On the first original dataframe Washington has more values than New York, but on the unique dataframe we see that New York has 10 unique companies, while Washington has 7 unique companies. This likely occured because the companies in Washington have more rows or contracts and deposits compared to the companies in New York.\n",
    "\n",
    "Overall, it seems that the best state to have a headquarters in would be Texas because they have the most companies within the state at 15 and they have the most total rows at 104, which means that Texas likely has the most total deposits and contracts as well."
   ]
  }
 ],
 "metadata": {
  "kernelspec": {
   "display_name": "Python 3",
   "language": "python",
   "name": "python3"
  },
  "language_info": {
   "codemirror_mode": {
    "name": "ipython",
    "version": 3
   },
   "file_extension": ".py",
   "mimetype": "text/x-python",
   "name": "python",
   "nbconvert_exporter": "python",
   "pygments_lexer": "ipython3",
   "version": "3.8.5"
  }
 },
 "nbformat": 4,
 "nbformat_minor": 4
}
